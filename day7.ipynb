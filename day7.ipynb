{
 "cells": [
  {
   "cell_type": "code",
   "execution_count": 1,
   "metadata": {},
   "outputs": [],
   "source": [
    "import pandas as pd\n",
    "import numpy as np\n"
   ]
  },
  {
   "cell_type": "code",
   "execution_count": 4,
   "metadata": {},
   "outputs": [],
   "source": [
    "data = pd.read_csv('AirQualityUCI.csv')"
   ]
  },
  {
   "cell_type": "code",
   "execution_count": 5,
   "metadata": {},
   "outputs": [],
   "source": [
    "data= data.dropna()"
   ]
  },
  {
   "cell_type": "code",
   "execution_count": 6,
   "metadata": {},
   "outputs": [],
   "source": [
    "data.reset_index(inplace=True)\n"
   ]
  },
  {
   "cell_type": "code",
   "execution_count": 7,
   "metadata": {},
   "outputs": [],
   "source": [
    "data['Date'] = data['level_0'].apply(lambda x: x.split(';')[0])"
   ]
  },
  {
   "cell_type": "code",
   "execution_count": 8,
   "metadata": {},
   "outputs": [],
   "source": [
    "data['Time'] = data['level_0'].apply(lambda x: x.split(';')[1])"
   ]
  },
  {
   "cell_type": "code",
   "execution_count": 9,
   "metadata": {},
   "outputs": [],
   "source": [
    "data['Date'] = pd.to_datetime(data['Date'])"
   ]
  },
  {
   "cell_type": "code",
   "execution_count": 10,
   "metadata": {},
   "outputs": [],
   "source": [
    "data['Weekday'] = data['Date'].dt.weekday\n",
    "data['Month'] = data['Date'].dt.month"
   ]
  },
  {
   "cell_type": "code",
   "execution_count": 11,
   "metadata": {},
   "outputs": [],
   "source": [
    "data['Morning'] = data['Time'][data['Time'] < '08.00.00']\n",
    "data['Afternoon'] = data['Time'][(data['Time'] > '12.00.00')  & (data['Time'] < '16.00.00') ]\n",
    "data['Evening'] = data['Time'][data['Time'] > '16.00.00']"
   ]
  },
  {
   "cell_type": "code",
   "execution_count": 21,
   "metadata": {},
   "outputs": [],
   "source": [
    "data['Month'] = data['Date'].dt.month"
   ]
  },
  {
   "cell_type": "code",
   "execution_count": 22,
   "metadata": {},
   "outputs": [],
   "source": [
    "data['Afternoon'] = data['Afternoon'].replace(np.nan,0)"
   ]
  },
  {
   "cell_type": "code",
   "execution_count": 23,
   "metadata": {},
   "outputs": [],
   "source": [
    "data['Morning'] = data['Morning'].replace(np.nan,0)"
   ]
  },
  {
   "cell_type": "code",
   "execution_count": 24,
   "metadata": {},
   "outputs": [],
   "source": [
    "data['Evening'] = data['Evening'].replace(np.nan,0)"
   ]
  },
  {
   "cell_type": "code",
   "execution_count": 25,
   "metadata": {},
   "outputs": [],
   "source": [
    "data['Afternoon'] = data['Afternoon'].replace(data['Afternoon'][data['Afternoon'] != 0],1)"
   ]
  },
  {
   "cell_type": "code",
   "execution_count": 26,
   "metadata": {},
   "outputs": [],
   "source": [
    "data['Morning'] = data['Morning'].replace(data['Morning'][data['Morning'] != 0],1)"
   ]
  },
  {
   "cell_type": "code",
   "execution_count": 27,
   "metadata": {},
   "outputs": [],
   "source": [
    "data['Evening'] = data['Evening'].replace(data['Evening'][data['Evening']!=0],1)"
   ]
  },
  {
   "cell_type": "code",
   "execution_count": 28,
   "metadata": {},
   "outputs": [
    {
     "data": {
      "text/plain": [
       "dtype('int64')"
      ]
     },
     "execution_count": 28,
     "metadata": {},
     "output_type": "execute_result"
    }
   ],
   "source": [
    "data['Morning'].dtype"
   ]
  },
  {
   "cell_type": "code",
   "execution_count": 29,
   "metadata": {},
   "outputs": [],
   "source": [
    "from sklearn import preprocessing"
   ]
  },
  {
   "cell_type": "code",
   "execution_count": 30,
   "metadata": {},
   "outputs": [],
   "source": [
    "label_encoder = preprocessing.LabelEncoder()"
   ]
  },
  {
   "cell_type": "code",
   "execution_count": 31,
   "metadata": {},
   "outputs": [],
   "source": [
    "data['Morning']=label_encoder.fit_transform(data['Morning'])"
   ]
  },
  {
   "cell_type": "code",
   "execution_count": 32,
   "metadata": {},
   "outputs": [],
   "source": [
    "data['Afternoon']=label_encoder.fit_transform(data['Afternoon'])"
   ]
  },
  {
   "cell_type": "code",
   "execution_count": 33,
   "metadata": {},
   "outputs": [],
   "source": [
    "data['Evening'] = label_encoder.fit_transform(data['Evening'])"
   ]
  },
  {
   "cell_type": "code",
   "execution_count": 34,
   "metadata": {},
   "outputs": [
    {
     "data": {
      "text/html": [
       "<div>\n",
       "<style scoped>\n",
       "    .dataframe tbody tr th:only-of-type {\n",
       "        vertical-align: middle;\n",
       "    }\n",
       "\n",
       "    .dataframe tbody tr th {\n",
       "        vertical-align: top;\n",
       "    }\n",
       "\n",
       "    .dataframe thead th {\n",
       "        text-align: right;\n",
       "    }\n",
       "</style>\n",
       "<table border=\"1\" class=\"dataframe\">\n",
       "  <thead>\n",
       "    <tr style=\"text-align: right;\">\n",
       "      <th></th>\n",
       "      <th>level_0</th>\n",
       "      <th>level_1</th>\n",
       "      <th>level_2</th>\n",
       "      <th>level_3</th>\n",
       "      <th>level_4</th>\n",
       "      <th>Date;Time;CO(GT);PT08.S1(CO);NMHC(GT);C6H6(GT);PT08.S2(NMHC);NOx(GT);PT08.S3(NOx);NO2(GT);PT08.S4(NO2);PT08.S5(O3);T;RH;AH;;</th>\n",
       "      <th>Date</th>\n",
       "      <th>Time</th>\n",
       "      <th>Weekday</th>\n",
       "      <th>Month</th>\n",
       "      <th>Morning</th>\n",
       "      <th>Afternoon</th>\n",
       "      <th>Evening</th>\n",
       "    </tr>\n",
       "  </thead>\n",
       "  <tbody>\n",
       "    <tr>\n",
       "      <td>0</td>\n",
       "      <td>10/03/2004;18.00.00;2</td>\n",
       "      <td>6;1360;150;11</td>\n",
       "      <td>9;1046;166;1056;113;1692;1268;13</td>\n",
       "      <td>6;48</td>\n",
       "      <td>9;0</td>\n",
       "      <td>7578;;</td>\n",
       "      <td>2004-10-03</td>\n",
       "      <td>18.00.00</td>\n",
       "      <td>6</td>\n",
       "      <td>10</td>\n",
       "      <td>0</td>\n",
       "      <td>0</td>\n",
       "      <td>1</td>\n",
       "    </tr>\n",
       "    <tr>\n",
       "      <td>1</td>\n",
       "      <td>10/03/2004;20.00.00;2</td>\n",
       "      <td>2;1402;88;9</td>\n",
       "      <td>0;939;131;1140;114;1555;1074;11</td>\n",
       "      <td>9;54</td>\n",
       "      <td>0;0</td>\n",
       "      <td>7502;;</td>\n",
       "      <td>2004-10-03</td>\n",
       "      <td>20.00.00</td>\n",
       "      <td>6</td>\n",
       "      <td>10</td>\n",
       "      <td>0</td>\n",
       "      <td>0</td>\n",
       "      <td>1</td>\n",
       "    </tr>\n",
       "    <tr>\n",
       "      <td>2</td>\n",
       "      <td>10/03/2004;21.00.00;2</td>\n",
       "      <td>2;1376;80;9</td>\n",
       "      <td>2;948;172;1092;122;1584;1203;11</td>\n",
       "      <td>0;60</td>\n",
       "      <td>0;0</td>\n",
       "      <td>7867;;</td>\n",
       "      <td>2004-10-03</td>\n",
       "      <td>21.00.00</td>\n",
       "      <td>6</td>\n",
       "      <td>10</td>\n",
       "      <td>0</td>\n",
       "      <td>0</td>\n",
       "      <td>1</td>\n",
       "    </tr>\n",
       "    <tr>\n",
       "      <td>3</td>\n",
       "      <td>10/03/2004;22.00.00;1</td>\n",
       "      <td>6;1272;51;6</td>\n",
       "      <td>5;836;131;1205;116;1490;1110;11</td>\n",
       "      <td>2;59</td>\n",
       "      <td>6;0</td>\n",
       "      <td>7888;;</td>\n",
       "      <td>2004-10-03</td>\n",
       "      <td>22.00.00</td>\n",
       "      <td>6</td>\n",
       "      <td>10</td>\n",
       "      <td>0</td>\n",
       "      <td>0</td>\n",
       "      <td>1</td>\n",
       "    </tr>\n",
       "    <tr>\n",
       "      <td>4</td>\n",
       "      <td>10/03/2004;23.00.00;1</td>\n",
       "      <td>2;1197;38;4</td>\n",
       "      <td>7;750;89;1337;96;1393;949;11</td>\n",
       "      <td>2;59</td>\n",
       "      <td>2;0</td>\n",
       "      <td>7848;;</td>\n",
       "      <td>2004-10-03</td>\n",
       "      <td>23.00.00</td>\n",
       "      <td>6</td>\n",
       "      <td>10</td>\n",
       "      <td>0</td>\n",
       "      <td>0</td>\n",
       "      <td>1</td>\n",
       "    </tr>\n",
       "    <tr>\n",
       "      <td>...</td>\n",
       "      <td>...</td>\n",
       "      <td>...</td>\n",
       "      <td>...</td>\n",
       "      <td>...</td>\n",
       "      <td>...</td>\n",
       "      <td>...</td>\n",
       "      <td>...</td>\n",
       "      <td>...</td>\n",
       "      <td>...</td>\n",
       "      <td>...</td>\n",
       "      <td>...</td>\n",
       "      <td>...</td>\n",
       "      <td>...</td>\n",
       "    </tr>\n",
       "    <tr>\n",
       "      <td>95</td>\n",
       "      <td>15/03/2004;10.00.00;5</td>\n",
       "      <td>8;1771;438;26</td>\n",
       "      <td>6;1470;394;622;157;2262;1973;17</td>\n",
       "      <td>4;45</td>\n",
       "      <td>6;0</td>\n",
       "      <td>8993;;</td>\n",
       "      <td>2004-03-15</td>\n",
       "      <td>10.00.00</td>\n",
       "      <td>0</td>\n",
       "      <td>3</td>\n",
       "      <td>0</td>\n",
       "      <td>0</td>\n",
       "      <td>0</td>\n",
       "    </tr>\n",
       "    <tr>\n",
       "      <td>96</td>\n",
       "      <td>15/03/2004;11.00.00;4</td>\n",
       "      <td>2;1564;334;20</td>\n",
       "      <td>1;1300;319;710;155;2029;1798;19</td>\n",
       "      <td>8;38</td>\n",
       "      <td>5;0</td>\n",
       "      <td>8801;;</td>\n",
       "      <td>2004-03-15</td>\n",
       "      <td>11.00.00</td>\n",
       "      <td>0</td>\n",
       "      <td>3</td>\n",
       "      <td>0</td>\n",
       "      <td>0</td>\n",
       "      <td>0</td>\n",
       "    </tr>\n",
       "    <tr>\n",
       "      <td>97</td>\n",
       "      <td>15/03/2004;12.00.00;3</td>\n",
       "      <td>1;1430;221;14</td>\n",
       "      <td>1;1120;201;831;134;1783;1522;22</td>\n",
       "      <td>0;34</td>\n",
       "      <td>1;0</td>\n",
       "      <td>8904;;</td>\n",
       "      <td>2004-03-15</td>\n",
       "      <td>12.00.00</td>\n",
       "      <td>0</td>\n",
       "      <td>3</td>\n",
       "      <td>0</td>\n",
       "      <td>0</td>\n",
       "      <td>0</td>\n",
       "    </tr>\n",
       "    <tr>\n",
       "      <td>98</td>\n",
       "      <td>15/03/2004;13.00.00;2</td>\n",
       "      <td>9;1417;207;14</td>\n",
       "      <td>9;1146;171;830;119;1831;1404;23</td>\n",
       "      <td>3;32</td>\n",
       "      <td>2;0</td>\n",
       "      <td>9096;;</td>\n",
       "      <td>2004-03-15</td>\n",
       "      <td>13.00.00</td>\n",
       "      <td>0</td>\n",
       "      <td>3</td>\n",
       "      <td>0</td>\n",
       "      <td>1</td>\n",
       "      <td>0</td>\n",
       "    </tr>\n",
       "    <tr>\n",
       "      <td>99</td>\n",
       "      <td>15/03/2004;14.00.00;2</td>\n",
       "      <td>9;1400;191;15</td>\n",
       "      <td>4;1162;159;838;111;1829;1263;23</td>\n",
       "      <td>9;30</td>\n",
       "      <td>0;0</td>\n",
       "      <td>8757;;</td>\n",
       "      <td>2004-03-15</td>\n",
       "      <td>14.00.00</td>\n",
       "      <td>0</td>\n",
       "      <td>3</td>\n",
       "      <td>0</td>\n",
       "      <td>1</td>\n",
       "      <td>0</td>\n",
       "    </tr>\n",
       "  </tbody>\n",
       "</table>\n",
       "<p>100 rows × 13 columns</p>\n",
       "</div>"
      ],
      "text/plain": [
       "                  level_0        level_1                           level_2  \\\n",
       "0   10/03/2004;18.00.00;2  6;1360;150;11  9;1046;166;1056;113;1692;1268;13   \n",
       "1   10/03/2004;20.00.00;2    2;1402;88;9   0;939;131;1140;114;1555;1074;11   \n",
       "2   10/03/2004;21.00.00;2    2;1376;80;9   2;948;172;1092;122;1584;1203;11   \n",
       "3   10/03/2004;22.00.00;1    6;1272;51;6   5;836;131;1205;116;1490;1110;11   \n",
       "4   10/03/2004;23.00.00;1    2;1197;38;4      7;750;89;1337;96;1393;949;11   \n",
       "..                    ...            ...                               ...   \n",
       "95  15/03/2004;10.00.00;5  8;1771;438;26   6;1470;394;622;157;2262;1973;17   \n",
       "96  15/03/2004;11.00.00;4  2;1564;334;20   1;1300;319;710;155;2029;1798;19   \n",
       "97  15/03/2004;12.00.00;3  1;1430;221;14   1;1120;201;831;134;1783;1522;22   \n",
       "98  15/03/2004;13.00.00;2  9;1417;207;14   9;1146;171;830;119;1831;1404;23   \n",
       "99  15/03/2004;14.00.00;2  9;1400;191;15   4;1162;159;838;111;1829;1263;23   \n",
       "\n",
       "   level_3 level_4  \\\n",
       "0     6;48     9;0   \n",
       "1     9;54     0;0   \n",
       "2     0;60     0;0   \n",
       "3     2;59     6;0   \n",
       "4     2;59     2;0   \n",
       "..     ...     ...   \n",
       "95    4;45     6;0   \n",
       "96    8;38     5;0   \n",
       "97    0;34     1;0   \n",
       "98    3;32     2;0   \n",
       "99    9;30     0;0   \n",
       "\n",
       "   Date;Time;CO(GT);PT08.S1(CO);NMHC(GT);C6H6(GT);PT08.S2(NMHC);NOx(GT);PT08.S3(NOx);NO2(GT);PT08.S4(NO2);PT08.S5(O3);T;RH;AH;;  \\\n",
       "0                                              7578;;                                                                             \n",
       "1                                              7502;;                                                                             \n",
       "2                                              7867;;                                                                             \n",
       "3                                              7888;;                                                                             \n",
       "4                                              7848;;                                                                             \n",
       "..                                                ...                                                                             \n",
       "95                                             8993;;                                                                             \n",
       "96                                             8801;;                                                                             \n",
       "97                                             8904;;                                                                             \n",
       "98                                             9096;;                                                                             \n",
       "99                                             8757;;                                                                             \n",
       "\n",
       "         Date      Time  Weekday  Month  Morning  Afternoon  Evening  \n",
       "0  2004-10-03  18.00.00        6     10        0          0        1  \n",
       "1  2004-10-03  20.00.00        6     10        0          0        1  \n",
       "2  2004-10-03  21.00.00        6     10        0          0        1  \n",
       "3  2004-10-03  22.00.00        6     10        0          0        1  \n",
       "4  2004-10-03  23.00.00        6     10        0          0        1  \n",
       "..        ...       ...      ...    ...      ...        ...      ...  \n",
       "95 2004-03-15  10.00.00        0      3        0          0        0  \n",
       "96 2004-03-15  11.00.00        0      3        0          0        0  \n",
       "97 2004-03-15  12.00.00        0      3        0          0        0  \n",
       "98 2004-03-15  13.00.00        0      3        0          1        0  \n",
       "99 2004-03-15  14.00.00        0      3        0          1        0  \n",
       "\n",
       "[100 rows x 13 columns]"
      ]
     },
     "execution_count": 34,
     "metadata": {},
     "output_type": "execute_result"
    }
   ],
   "source": [
    "data.head(100)"
   ]
  },
  {
   "cell_type": "code",
   "execution_count": null,
   "metadata": {},
   "outputs": [],
   "source": []
  }
 ],
 "metadata": {
  "kernelspec": {
   "display_name": "Python 3",
   "language": "python",
   "name": "python3"
  }
 },
 "nbformat": 4,
 "nbformat_minor": 2
}
